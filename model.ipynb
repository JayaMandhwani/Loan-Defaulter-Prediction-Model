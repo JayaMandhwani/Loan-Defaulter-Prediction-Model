{
 "cells": [
  {
   "cell_type": "code",
   "execution_count": 1,
   "metadata": {},
   "outputs": [],
   "source": [
    "import pandas as pd\n",
    "import sweetviz\n",
    "import numpy as np\n",
    "from sklearn.model_selection import train_test_split\n",
    "from sklearn.preprocessing import StandardScaler\n",
    "from sklearn.tree import DecisionTreeClassifier\n",
    "from sklearn import tree\n",
    "from sklearn.metrics import accuracy_score\n",
    "from sklearn.metrics import precision_score, recall_score\n",
    "from sklearn.metrics import f1_score, roc_auc_score, roc_curve\n",
    "from sklearn.model_selection import cross_val_score\n",
    "import pickle\n",
    "from sklearn.metrics import confusion_matrix, classification_report, accuracy_score\n",
    "\n",
    "\n"
   ]
  },
  {
   "cell_type": "code",
   "execution_count": 2,
   "metadata": {},
   "outputs": [],
   "source": [
    "def generate_model_report(y_actual, y_predicted):\n",
    "    print(\"Accuracy = \" , accuracy_score(y_actual, y_predicted))\n",
    "    print(\"Precision = \" ,precision_score(y_actual, y_predicted))\n",
    "    print(\"Recall = \" ,recall_score(y_actual, y_predicted))\n",
    "    print(\"F1 Score = \" ,f1_score(y_actual, y_predicted))\n",
    "    pass"
   ]
  },
  {
   "cell_type": "code",
   "execution_count": 3,
   "metadata": {},
   "outputs": [],
   "source": [
    "df=pd.read_csv(\"bank.csv\")"
   ]
  },
  {
   "cell_type": "code",
   "execution_count": 4,
   "metadata": {},
   "outputs": [
    {
     "name": "stderr",
     "output_type": "stream",
     "text": [
      ":FEATURES DONE:                    |                     | [  0%]   00:14  -> (00:00 left)\n",
      ":PAIRWISE DONE:                    |█████████████████████| [100%]   00:25  -> (00:00 left)\n"
     ]
    },
    {
     "name": "stdout",
     "output_type": "stream",
     "text": [
      "Creating Associations graph... DONE!\n"
     ]
    }
   ],
   "source": [
    "my_report=sweetviz.analyze([df,\"Default\"])"
   ]
  },
  {
   "cell_type": "code",
   "execution_count": null,
   "metadata": {},
   "outputs": [],
   "source": [
    "my_report.show_html('Report.html')"
   ]
  },
  {
   "cell_type": "code",
   "execution_count": 18,
   "metadata": {},
   "outputs": [],
   "source": [
    "col=['Term','FranchiseCode','UrbanRural','MIS_Status',\n",
    "     'DisbursementGross','ChgOffPrinGr','GrAppv','SBA_Appv']"
   ]
  },
  {
   "cell_type": "code",
   "execution_count": 19,
   "metadata": {},
   "outputs": [],
   "source": [
    "df=df[col]"
   ]
  },
  {
   "cell_type": "code",
   "execution_count": 20,
   "metadata": {},
   "outputs": [],
   "source": [
    "for column in['MIS_Status']:\n",
    "    df[column].fillna(df[column].mode()[0],inplace=True)"
   ]
  },
  {
   "cell_type": "code",
   "execution_count": 21,
   "metadata": {},
   "outputs": [],
   "source": [
    "df['code']=pd.factorize(df.MIS_Status)[0]"
   ]
  },
  {
   "cell_type": "code",
   "execution_count": 22,
   "metadata": {},
   "outputs": [],
   "source": [
    "row_indexes=df[df['FranchiseCode']>1].index\n",
    "df.loc[row_indexes,'isfranchise']='1'\n",
    "row_indexes=df[df['FranchiseCode']<=1].index\n",
    "df.loc[row_indexes,'isfranchise']='0'"
   ]
  },
  {
   "cell_type": "code",
   "execution_count": 23,
   "metadata": {},
   "outputs": [],
   "source": [
    "df.drop(['MIS_Status','FranchiseCode'],axis=1,inplace=True)"
   ]
  },
  {
   "cell_type": "code",
   "execution_count": 24,
   "metadata": {},
   "outputs": [],
   "source": [
    "df.isfranchise=df.isfranchise.astype(int)"
   ]
  },
  {
   "cell_type": "code",
   "execution_count": 25,
   "metadata": {},
   "outputs": [],
   "source": [
    "x=df.iloc[:,df.columns!='code']\n",
    "y=df.code"
   ]
  },
  {
   "cell_type": "code",
   "execution_count": 26,
   "metadata": {},
   "outputs": [],
   "source": [
    "from sklearn.model_selection import train_test_split\n",
    "x_train,x_test,y_train,y_test=\\\n",
    "train_test_split(x,y,test_size=0.3,random_state=10)"
   ]
  },
  {
   "cell_type": "code",
   "execution_count": 27,
   "metadata": {},
   "outputs": [
    {
     "name": "stderr",
     "output_type": "stream",
     "text": [
      "C:\\Users\\ADMIN\\AppData\\Roaming\\Python\\Python37\\site-packages\\pandas\\core\\frame.py:2963: SettingWithCopyWarning: \n",
      "A value is trying to be set on a copy of a slice from a DataFrame.\n",
      "Try using .loc[row_indexer,col_indexer] = value instead\n",
      "\n",
      "See the caveats in the documentation: https://pandas.pydata.org/pandas-docs/stable/user_guide/indexing.html#returning-a-view-versus-a-copy\n",
      "  self[k1] = value[k2]\n"
     ]
    }
   ],
   "source": [
    "currency_col = ['DisbursementGross', 'ChgOffPrinGr', 'GrAppv', 'SBA_Appv']\n",
    "x_train[currency_col] = x_train[currency_col].replace('[\\$,]', '', regex= True).astype(float)\n",
    "x_test[currency_col] = x_test[currency_col].replace('[\\$,]', '', regex= True).astype(float)"
   ]
  },
  {
   "cell_type": "code",
   "execution_count": 29,
   "metadata": {},
   "outputs": [
    {
     "data": {
      "text/html": [
       "<div>\n",
       "<style scoped>\n",
       "    .dataframe tbody tr th:only-of-type {\n",
       "        vertical-align: middle;\n",
       "    }\n",
       "\n",
       "    .dataframe tbody tr th {\n",
       "        vertical-align: top;\n",
       "    }\n",
       "\n",
       "    .dataframe thead th {\n",
       "        text-align: right;\n",
       "    }\n",
       "</style>\n",
       "<table border=\"1\" class=\"dataframe\">\n",
       "  <thead>\n",
       "    <tr style=\"text-align: right;\">\n",
       "      <th></th>\n",
       "      <th>Term</th>\n",
       "      <th>UrbanRural</th>\n",
       "      <th>DisbursementGross</th>\n",
       "      <th>ChgOffPrinGr</th>\n",
       "      <th>GrAppv</th>\n",
       "      <th>SBA_Appv</th>\n",
       "      <th>isfranchise</th>\n",
       "    </tr>\n",
       "  </thead>\n",
       "  <tbody>\n",
       "    <tr>\n",
       "      <th>39514</th>\n",
       "      <td>52</td>\n",
       "      <td>0</td>\n",
       "      <td>100000.0</td>\n",
       "      <td>0.0</td>\n",
       "      <td>100000.0</td>\n",
       "      <td>80000.0</td>\n",
       "      <td>0</td>\n",
       "    </tr>\n",
       "    <tr>\n",
       "      <th>38778</th>\n",
       "      <td>83</td>\n",
       "      <td>1</td>\n",
       "      <td>46870.0</td>\n",
       "      <td>0.0</td>\n",
       "      <td>27500.0</td>\n",
       "      <td>13750.0</td>\n",
       "      <td>0</td>\n",
       "    </tr>\n",
       "    <tr>\n",
       "      <th>56036</th>\n",
       "      <td>60</td>\n",
       "      <td>2</td>\n",
       "      <td>115000.0</td>\n",
       "      <td>0.0</td>\n",
       "      <td>50000.0</td>\n",
       "      <td>25000.0</td>\n",
       "      <td>0</td>\n",
       "    </tr>\n",
       "    <tr>\n",
       "      <th>6412</th>\n",
       "      <td>84</td>\n",
       "      <td>1</td>\n",
       "      <td>25000.0</td>\n",
       "      <td>0.0</td>\n",
       "      <td>25000.0</td>\n",
       "      <td>12500.0</td>\n",
       "      <td>0</td>\n",
       "    </tr>\n",
       "    <tr>\n",
       "      <th>89663</th>\n",
       "      <td>15</td>\n",
       "      <td>1</td>\n",
       "      <td>83313.0</td>\n",
       "      <td>20989.0</td>\n",
       "      <td>50000.0</td>\n",
       "      <td>25000.0</td>\n",
       "      <td>0</td>\n",
       "    </tr>\n",
       "    <tr>\n",
       "      <th>...</th>\n",
       "      <td>...</td>\n",
       "      <td>...</td>\n",
       "      <td>...</td>\n",
       "      <td>...</td>\n",
       "      <td>...</td>\n",
       "      <td>...</td>\n",
       "      <td>...</td>\n",
       "    </tr>\n",
       "    <tr>\n",
       "      <th>605</th>\n",
       "      <td>63</td>\n",
       "      <td>0</td>\n",
       "      <td>71000.0</td>\n",
       "      <td>0.0</td>\n",
       "      <td>71000.0</td>\n",
       "      <td>56800.0</td>\n",
       "      <td>0</td>\n",
       "    </tr>\n",
       "    <tr>\n",
       "      <th>122382</th>\n",
       "      <td>12</td>\n",
       "      <td>1</td>\n",
       "      <td>150000.0</td>\n",
       "      <td>75673.0</td>\n",
       "      <td>150000.0</td>\n",
       "      <td>75000.0</td>\n",
       "      <td>0</td>\n",
       "    </tr>\n",
       "    <tr>\n",
       "      <th>27289</th>\n",
       "      <td>60</td>\n",
       "      <td>1</td>\n",
       "      <td>87300.0</td>\n",
       "      <td>0.0</td>\n",
       "      <td>87300.0</td>\n",
       "      <td>43650.0</td>\n",
       "      <td>0</td>\n",
       "    </tr>\n",
       "    <tr>\n",
       "      <th>48723</th>\n",
       "      <td>3</td>\n",
       "      <td>1</td>\n",
       "      <td>50000.0</td>\n",
       "      <td>0.0</td>\n",
       "      <td>50000.0</td>\n",
       "      <td>42500.0</td>\n",
       "      <td>0</td>\n",
       "    </tr>\n",
       "    <tr>\n",
       "      <th>50108</th>\n",
       "      <td>3</td>\n",
       "      <td>1</td>\n",
       "      <td>25000.0</td>\n",
       "      <td>7634.0</td>\n",
       "      <td>25000.0</td>\n",
       "      <td>12500.0</td>\n",
       "      <td>0</td>\n",
       "    </tr>\n",
       "  </tbody>\n",
       "</table>\n",
       "<p>45000 rows × 7 columns</p>\n",
       "</div>"
      ],
      "text/plain": [
       "        Term  UrbanRural  DisbursementGross  ChgOffPrinGr    GrAppv  SBA_Appv  \\\n",
       "39514     52           0           100000.0           0.0  100000.0   80000.0   \n",
       "38778     83           1            46870.0           0.0   27500.0   13750.0   \n",
       "56036     60           2           115000.0           0.0   50000.0   25000.0   \n",
       "6412      84           1            25000.0           0.0   25000.0   12500.0   \n",
       "89663     15           1            83313.0       20989.0   50000.0   25000.0   \n",
       "...      ...         ...                ...           ...       ...       ...   \n",
       "605       63           0            71000.0           0.0   71000.0   56800.0   \n",
       "122382    12           1           150000.0       75673.0  150000.0   75000.0   \n",
       "27289     60           1            87300.0           0.0   87300.0   43650.0   \n",
       "48723      3           1            50000.0           0.0   50000.0   42500.0   \n",
       "50108      3           1            25000.0        7634.0   25000.0   12500.0   \n",
       "\n",
       "        isfranchise  \n",
       "39514             0  \n",
       "38778             0  \n",
       "56036             0  \n",
       "6412              0  \n",
       "89663             0  \n",
       "...             ...  \n",
       "605               0  \n",
       "122382            0  \n",
       "27289             0  \n",
       "48723             0  \n",
       "50108             0  \n",
       "\n",
       "[45000 rows x 7 columns]"
      ]
     },
     "execution_count": 29,
     "metadata": {},
     "output_type": "execute_result"
    }
   ],
   "source": [
    "x_test"
   ]
  },
  {
   "cell_type": "code",
   "execution_count": 34,
   "metadata": {},
   "outputs": [
    {
     "name": "stdout",
     "output_type": "stream",
     "text": [
      "actual 39514     0\n",
      "38778     0\n",
      "56036     0\n",
      "6412      0\n",
      "89663     1\n",
      "         ..\n",
      "605       0\n",
      "122382    0\n",
      "27289     0\n",
      "48723     0\n",
      "50108     1\n",
      "Name: code, Length: 45000, dtype: int64\n",
      "pred [0 0 0 ... 0 0 1]\n",
      "Train Accuracy 98.98856179582663\n",
      "Test Accuracy 99.02\n",
      "Accuracy =  0.9902\n",
      "Precision =  0.967456608811749\n",
      "Recall =  0.9956204379562044\n",
      "F1 Score =  0.981336493292141\n"
     ]
    }
   ],
   "source": [
    "#DecisionTree\n",
    "modelDS=DecisionTreeClassifier(criterion='entropy',random_state=1,max_depth=18,min_samples_leaf=50)\n",
    "modelDS.fit(x_train,y_train)\n",
    "\n",
    "\n",
    "y_train_predict=modelDS.predict(x_train)\n",
    "y_test_predict=modelDS.predict(x_test)\n",
    "print(\"actual\",y_test)\n",
    "print(\"pred\",y_test_predict)\n",
    "\n",
    "\n",
    "print('Train Accuracy',accuracy_score(y_train,y_train_predict)*100)\n",
    "print('Test Accuracy',accuracy_score(y_test,y_test_predict)*100)\n",
    "generate_model_report(y_test,y_test_predict)"
   ]
  },
  {
   "cell_type": "code",
   "execution_count": 16,
   "metadata": {},
   "outputs": [
    {
     "name": "stdout",
     "output_type": "stream",
     "text": [
      "Confusion matrix of Decision model: \n",
      " [[32965   390]\n",
      " [   51 11594]] \n",
      "\n",
      "Accuracy of Decision mode =  0.9902\n"
     ]
    }
   ],
   "source": [
    "# Saving model to disk\n",
    "pickle.dump(modelDS, open('model.pkl','wb'))\n",
    "\n",
    "# Loading model to compare the results\n",
    "model = pickle.load(open('model.pkl','rb'))\n",
    "\n",
    "# predict the output\n",
    "y_pred = model.predict(x_test)\n",
    " \n",
    "# confusion matrix\n",
    "print('Confusion matrix of Decision model: \\n',confusion_matrix(y_test, y_pred),'\\n')\n",
    " \n",
    "# show the accuracy\n",
    "print('Accuracy of Decision mode = ',accuracy_score(y_test, y_pred))"
   ]
  },
  {
   "cell_type": "code",
   "execution_count": null,
   "metadata": {},
   "outputs": [],
   "source": []
  }
 ],
 "metadata": {
  "kernelspec": {
   "display_name": "Python 3",
   "language": "python",
   "name": "python3"
  },
  "language_info": {
   "codemirror_mode": {
    "name": "ipython",
    "version": 3
   },
   "file_extension": ".py",
   "mimetype": "text/x-python",
   "name": "python",
   "nbconvert_exporter": "python",
   "pygments_lexer": "ipython3",
   "version": "3.7.6"
  }
 },
 "nbformat": 4,
 "nbformat_minor": 4
}
